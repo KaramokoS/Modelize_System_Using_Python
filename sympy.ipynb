{
 "cells": [
  {
   "cell_type": "markdown",
   "metadata": {},
   "source": [
    "Sympy is used for analytical problem resolution. You can see it as pen and paper. It gives you the possibility to process and resolve your problem analytically before implementing it numerically\n",
    "\n",
    "- Find an example where we can manually solve a problem and implement it with sympy (thermodynamique problem fopr example) \n",
    "- Utilisation de de GT power pour resoudre un prbl d'echangeur thermique. On peut implementer nos equations theoriques en utilisant sympy et python pour resoudre le problem, ensuite resoudre le pb avec GT ou AMEsim"
   ]
  },
  {
   "cell_type": "markdown",
   "metadata": {},
   "source": []
  }
 ],
 "metadata": {
  "kernelspec": {
   "display_name": "Python 3.10.6 ('bvpyx-fenicsx-dev')",
   "language": "python",
   "name": "python3"
  },
  "language_info": {
   "name": "python",
   "version": "3.10.6"
  },
  "orig_nbformat": 4,
  "vscode": {
   "interpreter": {
    "hash": "433263323d5545258b42c6f78b5e3d676fbc72f662b59d217ea7a5b51f0f4213"
   }
  }
 },
 "nbformat": 4,
 "nbformat_minor": 2
}
